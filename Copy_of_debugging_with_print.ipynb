{
  "nbformat": 4,
  "nbformat_minor": 0,
  "metadata": {
    "colab": {
      "name": "Copy of debugging_with_print.ipynb",
      "provenance": [],
      "collapsed_sections": [],
      "include_colab_link": true
    },
    "kernelspec": {
      "name": "python3",
      "display_name": "Python 3"
    },
    "language_info": {
      "name": "python"
    }
  },
  "cells": [
    {
      "cell_type": "markdown",
      "metadata": {
        "id": "view-in-github",
        "colab_type": "text"
      },
      "source": [
        "<a href=\"https://colab.research.google.com/github/rusheegopaul/test/blob/main/Copy_of_debugging_with_print.ipynb\" target=\"_parent\"><img src=\"https://colab.research.google.com/assets/colab-badge.svg\" alt=\"Open In Colab\"/></a>"
      ]
    },
    {
      "cell_type": "markdown",
      "source": [
        "# Debugging\n",
        "\n",
        "When you first begin to program, you make a lot of mistakes, and your code doesn’t always work!\n",
        "\n",
        "When you're a skilled programmer, you make mistakes and your code doesn’t always work.\n",
        "\n",
        "**Everyone needs debugging skills.**\n",
        "\n",
        "Debugging is the process of figuring out what is going wrong with your code.There are many ways to debug. This notebook will talk about one specific way: print statement debugging. Print statement debugging is great for beginners because it doesn't require special tools. It's a great way to develop a sense of how to debug effectively.\n",
        "\n",
        "# How to Debug With Print Statements\n",
        "\n",
        "Debugging is not just running your code. It also requires reading your code.\n",
        "\n",
        "* Read your code, and\n",
        "* Read your error messages\n",
        "\n",
        "You should have a little bit of an idea of the general area of code where your bug is occurring.  This is often acheived by matching up the output with the code associated with it.\n",
        "\n",
        "You can narrow your search from there: Place print statements so you know \"where\" you are in the code or print the valuse of variables.\n",
        "\n",
        "#### Which Variables Should You Look at?\n",
        "\n",
        "Look at the ones that seem to be misbehaving.  Put a print statement before and after an update, if the value changing as expected?\n",
        "\n",
        "You can put  a print statement inside of a for Loop so that it prints out the value every time the loop goes through.  This can show you what the value is are and how they are changing.  \n",
        "\n",
        "#### Code Excuting as expected\n",
        "\n",
        "You can put a series of numbers throughout the code. Say print one at the beginning.  Then add print statement in various palces incrementing the number.  Then run the program and look at the output.  If you see the numbers “1” “2” “3” “4” and so on then the program is execusitng as expeted. If a number is missing then you can investigate further to see whay.\n",
        "\n",
        "#### Use Sparingly\n",
        "\n",
        "Too many print statements can very quickly lead to more confusion, especially within loops.So use your print statements sparingly!\n",
        "\n",
        "\n",
        "\n",
        "# Bubble Sort\n",
        "\n",
        "Below is an implementation of the bubble sort algorithm. It iterates or loops several times over the list, and on each iteration, two adjacent values are checked and interchanged, so the bigger one is after the smaller. This makes the bigger values ascend like bubbles in the list."
      ],
      "metadata": {
        "id": "I_Mvaae0FEHh"
      }
    },
    {
      "cell_type": "code",
      "execution_count": 2,
      "metadata": {
        "id": "h8XHUWYkB-nh"
      },
      "outputs": [],
      "source": [
        "def bubble_sort(alist):\n",
        "  '''Sorts a given list in ascending order\n",
        "  >>> bubble_sort([3,4,2,1])\n",
        "  [1,2,3,4]\n",
        "  '''\n",
        "  for passnum in reversed(range(len(alist) - 1)):\n",
        "      for i in range(passnum):\n",
        "          if alist[i] > alist[i + 1]:\n",
        "              alist[i], alist[i + 1] = alist[i + 1], alist[i]\n",
        "  return alist"
      ]
    },
    {
      "cell_type": "markdown",
      "source": [
        "Let us try a few examples"
      ],
      "metadata": {
        "id": "GIaqVlKlIYo2"
      }
    },
    {
      "cell_type": "code",
      "source": [
        "bubble_sort([3,4,2,1])"
      ],
      "metadata": {
        "id": "YJ0VemjrCPv6",
        "colab": {
          "base_uri": "https://localhost:8080/"
        },
        "outputId": "602ab782-6647-4b43-d803-8ae87b7f361f"
      },
      "execution_count": 3,
      "outputs": [
        {
          "output_type": "execute_result",
          "data": {
            "text/plain": [
              "[2, 3, 4, 1]"
            ]
          },
          "metadata": {},
          "execution_count": 3
        }
      ]
    },
    {
      "cell_type": "code",
      "source": [
        "bubble_sort([7,1,3,4,2,6,5])"
      ],
      "metadata": {
        "id": "JgyQfUTPHefn",
        "colab": {
          "base_uri": "https://localhost:8080/"
        },
        "outputId": "d008910b-7e35-417a-bfa4-be6126332766"
      },
      "execution_count": 4,
      "outputs": [
        {
          "output_type": "execute_result",
          "data": {
            "text/plain": [
              "[1, 2, 3, 4, 6, 7, 5]"
            ]
          },
          "metadata": {},
          "execution_count": 4
        }
      ]
    },
    {
      "cell_type": "markdown",
      "source": [
        "This is an example of a runtime error.  The code is syntatically correct and runs, just the expected output is incorrect.\n",
        "\n",
        "It almost works, you may notice a pattern but let us use a print statement to try and trace the executation of the program.  \n",
        "\n",
        "There are lots of places you could put a print statement but in this example we will check after the list is updated."
      ],
      "metadata": {
        "id": "vc7m2XskIs4y"
      }
    },
    {
      "cell_type": "code",
      "source": [
        "def bubble_sort(alist):\n",
        "  '''Sorts a given list in ascending order\n",
        "  >>> bubble_sort([3,4,2,1])\n",
        "  [1,2,3,4]\n",
        "  '''\n",
        "  for passnum in reversed(range(len(alist) - 1)):\n",
        "    print(\"The list is :\" ,alist)\n",
        "    for i in range(passnum):\n",
        "        if alist[i] > alist[i + 1]:\n",
        "            alist[i], alist[i + 1] = alist[i + 1], alist[i]\n",
        "  return alist"
      ],
      "metadata": {
        "id": "umaiIrX1Iq3x"
      },
      "execution_count": 12,
      "outputs": []
    },
    {
      "cell_type": "code",
      "source": [
        "bubble_sort([3,4,2,1])"
      ],
      "metadata": {
        "id": "Tg1HDnlDKCFd",
        "colab": {
          "base_uri": "https://localhost:8080/"
        },
        "outputId": "4aa7fe37-eab1-4bb2-a2b1-f416f3f37a23"
      },
      "execution_count": 13,
      "outputs": [
        {
          "output_type": "stream",
          "name": "stdout",
          "text": [
            "The list is : [3, 4, 2, 1]\n",
            "The list is : [3, 2, 4, 1]\n",
            "The list is : [2, 3, 4, 1]\n"
          ]
        },
        {
          "output_type": "execute_result",
          "data": {
            "text/plain": [
              "[2, 3, 4, 1]"
            ]
          },
          "metadata": {},
          "execution_count": 13
        }
      ]
    },
    {
      "cell_type": "code",
      "source": [
        "bubble_sort([7,1,3,4,2,6,5])"
      ],
      "metadata": {
        "id": "GPwW960iKHJh",
        "colab": {
          "base_uri": "https://localhost:8080/"
        },
        "outputId": "1914bc84-4dd7-40e3-fc11-59a5f2aa1782"
      },
      "execution_count": 14,
      "outputs": [
        {
          "output_type": "stream",
          "name": "stdout",
          "text": [
            "The list is : [7, 1, 3, 4, 2, 6, 5]\n",
            "The list is : [1, 3, 4, 2, 6, 7, 5]\n",
            "The list is : [1, 3, 2, 4, 6, 7, 5]\n",
            "The list is : [1, 2, 3, 4, 6, 7, 5]\n",
            "The list is : [1, 2, 3, 4, 6, 7, 5]\n",
            "The list is : [1, 2, 3, 4, 6, 7, 5]\n"
          ]
        },
        {
          "output_type": "execute_result",
          "data": {
            "text/plain": [
              "[1, 2, 3, 4, 6, 7, 5]"
            ]
          },
          "metadata": {},
          "execution_count": 14
        }
      ]
    },
    {
      "cell_type": "markdown",
      "source": [
        "Analyzing the output, we realize that the ....\n",
        "\n",
        "....  Sometimes you are sure of the fix, sometimes you have an educated guess and try a fix.\n"
      ],
      "metadata": {
        "id": "1oV7GzpmKasQ"
      }
    },
    {
      "cell_type": "code",
      "source": [
        "def bubble_sort(alist):\n",
        "  '''Sorts a given list in ascending order\n",
        "  >>> bubble_sort([3,4,2,1])\n",
        "  [1,2,3,4]\n",
        "  '''\n",
        "  for passnum in reversed(range(len(alist) - 1)):\n",
        "    print(\"The list is :\" ,alist)\n",
        "    for i in range(passnum):\n",
        "        if alist[i] > alist[i + 1]:\n",
        "            alist[i], alist[i + 1] = alist[i + 1], alist[i]\n",
        "  return alist"
      ],
      "metadata": {
        "id": "AQvRLZyVKY7r"
      },
      "execution_count": 15,
      "outputs": []
    },
    {
      "cell_type": "code",
      "source": [
        "\n",
        "bubble_sort([3,4,2,1])"
      ],
      "metadata": {
        "id": "MIwiXjZFMsSF",
        "colab": {
          "base_uri": "https://localhost:8080/"
        },
        "outputId": "9221d8d0-ea68-4e80-8ebc-b90c2dbd0923"
      },
      "execution_count": 16,
      "outputs": [
        {
          "output_type": "stream",
          "name": "stdout",
          "text": [
            "The list is : [3, 4, 2, 1]\n",
            "The list is : [3, 2, 4, 1]\n",
            "The list is : [2, 3, 4, 1]\n"
          ]
        },
        {
          "output_type": "execute_result",
          "data": {
            "text/plain": [
              "[2, 3, 4, 1]"
            ]
          },
          "metadata": {},
          "execution_count": 16
        }
      ]
    },
    {
      "cell_type": "code",
      "source": [
        "bubble_sort([7,1,3,4,2,6,5])"
      ],
      "metadata": {
        "id": "6YnvMrNEdmZw",
        "colab": {
          "base_uri": "https://localhost:8080/"
        },
        "outputId": "647e9fbc-1c5c-489e-938e-93512a054d59"
      },
      "execution_count": 17,
      "outputs": [
        {
          "output_type": "stream",
          "name": "stdout",
          "text": [
            "The list is : [7, 1, 3, 4, 2, 6, 5]\n",
            "The list is : [1, 3, 4, 2, 6, 7, 5]\n",
            "The list is : [1, 3, 2, 4, 6, 7, 5]\n",
            "The list is : [1, 2, 3, 4, 6, 7, 5]\n",
            "The list is : [1, 2, 3, 4, 6, 7, 5]\n",
            "The list is : [1, 2, 3, 4, 6, 7, 5]\n"
          ]
        },
        {
          "output_type": "execute_result",
          "data": {
            "text/plain": [
              "[1, 2, 3, 4, 6, 7, 5]"
            ]
          },
          "metadata": {},
          "execution_count": 17
        }
      ]
    },
    {
      "cell_type": "markdown",
      "source": [
        "Once you are happy it is working.  Remove or comment out the print() statement."
      ],
      "metadata": {
        "id": "142Msl3UMz08"
      }
    },
    {
      "cell_type": "code",
      "source": [
        "def bubble_sort(alist):\n",
        "  '''Sorts a given list in ascending order\n",
        "  >>> bubble_sort([3,4,2,1])\n",
        "  [1,2,3,4]\n",
        "  '''\n",
        "  for passnum in reversed(range(len(alist) - 1)):\n",
        "    for i in range(passnum):\n",
        "        if alist[i] > alist[i + 1]:\n",
        "            alist[i], alist[i + 1] = alist[i + 1], alist[i]\n",
        "  return alist"
      ],
      "metadata": {
        "id": "nXGowQG7MyGp"
      },
      "execution_count": 18,
      "outputs": []
    },
    {
      "cell_type": "code",
      "source": [
        "bubble_sort([7,1,3,4,2,6,5])"
      ],
      "metadata": {
        "id": "eMNdpicmM9uF",
        "colab": {
          "base_uri": "https://localhost:8080/"
        },
        "outputId": "1985a112-061f-46bd-dc01-7f524d68d7dd"
      },
      "execution_count": 19,
      "outputs": [
        {
          "output_type": "execute_result",
          "data": {
            "text/plain": [
              "[1, 2, 3, 4, 6, 7, 5]"
            ]
          },
          "metadata": {},
          "execution_count": 19
        }
      ]
    },
    {
      "cell_type": "code",
      "source": [
        ""
      ],
      "metadata": {
        "id": "Vkt62QK6NBQ0"
      },
      "execution_count": null,
      "outputs": []
    }
  ]
}